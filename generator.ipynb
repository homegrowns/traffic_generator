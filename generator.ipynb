{
 "cells": [
  {
   "cell_type": "code",
   "execution_count": null,
   "id": "4efe7021",
   "metadata": {},
   "outputs": [],
   "source": [
    "from tkinter import *"
   ]
  },
  {
   "cell_type": "code",
   "execution_count": null,
   "id": "73bb4753",
   "metadata": {},
   "outputs": [],
   "source": [
    "win = Tk() # 창생성"
   ]
  },
  {
   "cell_type": "code",
   "execution_count": null,
   "id": "66d89f2c",
   "metadata": {},
   "outputs": [],
   "source": [
    "win.mainloop() # 창을실행"
   ]
  }
 ],
 "metadata": {
  "kernelspec": {
   "display_name": "myenv",
   "language": "python",
   "name": "python3"
  },
  "language_info": {
   "name": "python",
   "version": "3.11.9"
  }
 },
 "nbformat": 4,
 "nbformat_minor": 5
}
