{
 "cells": [
  {
   "cell_type": "code",
   "execution_count": null,
   "id": "4efe7021",
   "metadata": {},
   "outputs": [],
   "source": [
    "from tkinter import *"
   ]
  },
  {
   "cell_type": "code",
   "execution_count": null,
   "id": "73bb4753",
   "metadata": {},
   "outputs": [],
   "source": [
    "win = Tk() # 창생성"
   ]
  },
  {
   "cell_type": "code",
   "execution_count": null,
   "id": "66d89f2c",
   "metadata": {},
   "outputs": [],
   "source": [
    "win.mainloop() # 창을실행"
   ]
  },
  {
   "cell_type": "code",
   "execution_count": null,
   "id": "ed2d5580",
   "metadata": {},
   "outputs": [],
   "source": [
    "# pyinstaller your_script.py\n",
    "# .spec 파일이 자동 생성되고,\n",
    "\n",
    "# dist/your_script/your_script.exe 형태로 생성됩니다."
   ]
  },
  {
   "cell_type": "code",
   "execution_count": null,
   "id": "a2394f42",
   "metadata": {},
   "outputs": [],
   "source": [
    "# pyinstaller --onefile --noconsole --icon=icon.ico --name=TrafficSender traffic_gui.py"
   ]
  },
  {
   "cell_type": "markdown",
   "id": "5a0b9bfb",
   "metadata": {},
   "source": [
    "옵션\t        설명\n",
    "--onefile\t  |.exe를 하나의 파일로 통합\n",
    "--noconsole\t  |콘솔 창 없이 GUI 앱으로 실행 (Tkinter, PyQt 등에서 사용)\n",
    "--icon=app.ico|\t실행 파일에 아이콘 추가\n",
    "--name=이름\t   |생성되는 실행 파일 이름 지정"
   ]
  }
 ],
 "metadata": {
  "kernelspec": {
   "display_name": "myenv",
   "language": "python",
   "name": "python3"
  },
  "language_info": {
   "name": "python",
   "version": "3.11.9"
  }
 },
 "nbformat": 4,
 "nbformat_minor": 5
}
